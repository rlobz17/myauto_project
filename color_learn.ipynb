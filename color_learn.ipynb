{
 "cells": [
  {
   "cell_type": "code",
   "execution_count": 1,
   "metadata": {},
   "outputs": [],
   "source": [
    "import numpy as np\n",
    "import pandas as pd\n",
    "import os\n",
    "from PIL import Image\n",
    "import matplotlib.pyplot as plt"
   ]
  },
  {
   "cell_type": "code",
   "execution_count": 2,
   "metadata": {},
   "outputs": [],
   "source": [
    "images_dir = \"data/images\"\n",
    "info_dir = \"data/characteristics.csv\""
   ]
  },
  {
   "cell_type": "code",
   "execution_count": 3,
   "metadata": {},
   "outputs": [
    {
     "data": {
      "text/html": [
       "<div>\n",
       "<style scoped>\n",
       "    .dataframe tbody tr th:only-of-type {\n",
       "        vertical-align: middle;\n",
       "    }\n",
       "\n",
       "    .dataframe tbody tr th {\n",
       "        vertical-align: top;\n",
       "    }\n",
       "\n",
       "    .dataframe thead th {\n",
       "        text-align: right;\n",
       "    }\n",
       "</style>\n",
       "<table border=\"1\" class=\"dataframe\">\n",
       "  <thead>\n",
       "    <tr style=\"text-align: right;\">\n",
       "      <th></th>\n",
       "      <th>ID</th>\n",
       "      <th>manufacturer</th>\n",
       "      <th>model</th>\n",
       "      <th>category</th>\n",
       "      <th>mileage</th>\n",
       "      <th>year</th>\n",
       "      <th>gear_box_type</th>\n",
       "      <th>doors</th>\n",
       "      <th>wheel</th>\n",
       "      <th>color</th>\n",
       "      <th>interior_color</th>\n",
       "      <th>vin</th>\n",
       "      <th>leather_interior</th>\n",
       "      <th>deal_type</th>\n",
       "      <th>price</th>\n",
       "      <th>customs</th>\n",
       "    </tr>\n",
       "  </thead>\n",
       "  <tbody>\n",
       "    <tr>\n",
       "      <th>0</th>\n",
       "      <td>0</td>\n",
       "      <td>NISSAN</td>\n",
       "      <td>Juke</td>\n",
       "      <td>Jeep</td>\n",
       "      <td>111111111</td>\n",
       "      <td>2010</td>\n",
       "      <td>Tiptronic</td>\n",
       "      <td>4/5</td>\n",
       "      <td>Left wheel</td>\n",
       "      <td>Carnelian red</td>\n",
       "      <td>Black</td>\n",
       "      <td>JN8AF5MV2BT011450</td>\n",
       "      <td>1</td>\n",
       "      <td>For Sale</td>\n",
       "      <td>7300</td>\n",
       "      <td>0</td>\n",
       "    </tr>\n",
       "    <tr>\n",
       "      <th>1</th>\n",
       "      <td>1</td>\n",
       "      <td>HYUNDAI</td>\n",
       "      <td>Santa FE</td>\n",
       "      <td>Jeep</td>\n",
       "      <td>88000</td>\n",
       "      <td>2013</td>\n",
       "      <td>Tiptronic</td>\n",
       "      <td>4/5</td>\n",
       "      <td>Left wheel</td>\n",
       "      <td>Grey</td>\n",
       "      <td>Black</td>\n",
       "      <td>NaN</td>\n",
       "      <td>1</td>\n",
       "      <td>For Sale</td>\n",
       "      <td>13600</td>\n",
       "      <td>0</td>\n",
       "    </tr>\n",
       "    <tr>\n",
       "      <th>2</th>\n",
       "      <td>2</td>\n",
       "      <td>CHEVROLET</td>\n",
       "      <td>Cruze</td>\n",
       "      <td>Sedan</td>\n",
       "      <td>140000</td>\n",
       "      <td>2013</td>\n",
       "      <td>Tiptronic</td>\n",
       "      <td>4/5</td>\n",
       "      <td>Left wheel</td>\n",
       "      <td>Silver</td>\n",
       "      <td>Black</td>\n",
       "      <td>NaN</td>\n",
       "      <td>1</td>\n",
       "      <td>For Sale</td>\n",
       "      <td>Price negotiable</td>\n",
       "      <td>640</td>\n",
       "    </tr>\n",
       "    <tr>\n",
       "      <th>3</th>\n",
       "      <td>3</td>\n",
       "      <td>TOYOTA</td>\n",
       "      <td>Prius</td>\n",
       "      <td>Sedan</td>\n",
       "      <td>71000</td>\n",
       "      <td>2013</td>\n",
       "      <td>Automatic</td>\n",
       "      <td>4/5</td>\n",
       "      <td>Left wheel</td>\n",
       "      <td>Grey</td>\n",
       "      <td>Black</td>\n",
       "      <td>NaN</td>\n",
       "      <td>1</td>\n",
       "      <td>For Sale</td>\n",
       "      <td>6100</td>\n",
       "      <td>0</td>\n",
       "    </tr>\n",
       "    <tr>\n",
       "      <th>4</th>\n",
       "      <td>4</td>\n",
       "      <td>SUZUKI</td>\n",
       "      <td>Grand Vitara</td>\n",
       "      <td>Jeep</td>\n",
       "      <td>155000</td>\n",
       "      <td>2008</td>\n",
       "      <td>Automatic</td>\n",
       "      <td>4/5</td>\n",
       "      <td>Left wheel</td>\n",
       "      <td>Grey</td>\n",
       "      <td>Black</td>\n",
       "      <td>JS3TD54V284130629</td>\n",
       "      <td>0</td>\n",
       "      <td>For Sale</td>\n",
       "      <td>6377</td>\n",
       "      <td>0</td>\n",
       "    </tr>\n",
       "  </tbody>\n",
       "</table>\n",
       "</div>"
      ],
      "text/plain": [
       "   ID manufacturer         model category    mileage  year gear_box_type  \\\n",
       "0   0       NISSAN          Juke     Jeep  111111111  2010     Tiptronic   \n",
       "1   1      HYUNDAI      Santa FE     Jeep      88000  2013     Tiptronic   \n",
       "2   2    CHEVROLET         Cruze    Sedan     140000  2013     Tiptronic   \n",
       "3   3       TOYOTA         Prius    Sedan      71000  2013     Automatic   \n",
       "4   4       SUZUKI  Grand Vitara     Jeep     155000  2008     Automatic   \n",
       "\n",
       "  doors           wheel            color interior_color                  vin  \\\n",
       "0   4/5    Left wheel     Carnelian red          Black    JN8AF5MV2BT011450    \n",
       "1   4/5    Left wheel              Grey          Black                   NaN   \n",
       "2   4/5    Left wheel            Silver          Black                   NaN   \n",
       "3   4/5    Left wheel              Grey          Black                   NaN   \n",
       "4   4/5    Left wheel              Grey          Black    JS3TD54V284130629    \n",
       "\n",
       "   leather_interior deal_type             price  customs  \n",
       "0                 1  For Sale              7300        0  \n",
       "1                 1  For Sale             13600        0  \n",
       "2                 1  For Sale  Price negotiable      640  \n",
       "3                 1  For Sale              6100        0  \n",
       "4                 0  For Sale              6377        0  "
      ]
     },
     "execution_count": 3,
     "metadata": {},
     "output_type": "execute_result"
    }
   ],
   "source": [
    "df = pd.read_csv(info_dir)\n",
    "df.head()"
   ]
  },
  {
   "cell_type": "code",
   "execution_count": 16,
   "metadata": {},
   "outputs": [
    {
     "name": "stdout",
     "output_type": "stream",
     "text": [
      "ID                               5\n",
      "manufacturer               HYUNDAI\n",
      "model                       Sonata\n",
      "category                     Sedan\n",
      "mileage                      92000\n",
      "year                          2013\n",
      "gear_box_type            Automatic\n",
      "doors                          4/5\n",
      "wheel                 Left wheel  \n",
      "color                    Sky blue \n",
      "interior_color               Grey \n",
      "vin                            NaN\n",
      "leather_interior                 0\n",
      "deal_type                 For Sale\n",
      "price                         4900\n",
      "customs                        751\n",
      "Name: 5, dtype: object\n"
     ]
    }
   ],
   "source": [
    "for key in df['ID']:\n",
    "    if key == 5 :\n",
    "        print(df.loc[key])"
   ]
  },
  {
   "cell_type": "code",
   "execution_count": 18,
   "metadata": {},
   "outputs": [
    {
     "data": {
      "text/plain": [
       "array([' Carnelian red ', ' Grey ', ' Silver ', ' Sky blue ', ' Red ',\n",
       "       ' Black ', ' White ', ' Blue ', nan, ' Pink ', ' Brown ',\n",
       "       ' Beige ', ' Orange ', ' Green ', ' Yellow ', ' Golden ',\n",
       "       ' Purple '], dtype=object)"
      ]
     },
     "execution_count": 18,
     "metadata": {},
     "output_type": "execute_result"
    }
   ],
   "source": [
    "df.color.unique()"
   ]
  },
  {
   "cell_type": "code",
   "execution_count": null,
   "metadata": {},
   "outputs": [],
   "source": []
  }
 ],
 "metadata": {
  "kernelspec": {
   "display_name": "Python 3",
   "language": "python",
   "name": "python3"
  },
  "language_info": {
   "codemirror_mode": {
    "name": "ipython",
    "version": 3
   },
   "file_extension": ".py",
   "mimetype": "text/x-python",
   "name": "python",
   "nbconvert_exporter": "python",
   "pygments_lexer": "ipython3",
   "version": "3.7.6"
  }
 },
 "nbformat": 4,
 "nbformat_minor": 4
}
